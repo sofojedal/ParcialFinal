{
  "nbformat": 4,
  "nbformat_minor": 0,
  "metadata": {
    "colab": {
      "provenance": []
    },
    "kernelspec": {
      "name": "python3",
      "display_name": "Python 3"
    },
    "language_info": {
      "name": "python"
    }
  },
  "cells": [
    {
      "cell_type": "markdown",
      "source": [
        "**Universidad Sergio Arboleda**\n",
        "\n",
        "*Programa Ciencias de la Computación e Inteligencia Artificial*\n",
        "\n",
        "*Autor: Laura Sofía Ojeda León*\n",
        "\n",
        "*Fecha 23 / 11 / 2022*\n",
        "\n",
        "*Tópico: Parcial 3 Corte*"
      ],
      "metadata": {
        "id": "NeVqb8c8HBvp"
      }
    },
    {
      "cell_type": "markdown",
      "source": [
        "**Acerca del conjunto de datos**\n",
        "\n",
        "En todo el mundo, el cáncer de mama es el tipo de cáncer más común en las mujeres y el segundo más alto en términos de tasas de mortalidad. \n",
        "\n",
        "\n",
        "El diagnóstico de cáncer de mama se realiza cuando se encuentra un bulto anormal (a partir de un autoexamen o una radiografía) o una pequeña mancha de se ve calcio (en una radiografía)\n",
        "\n",
        "\n",
        "Después de encontrar un bulto sospechoso, el médico realizará un diagnóstico para determinar si es canceroso y, de ser así, si se ha propagado a otras partes del cuerpo.\n",
        "\n",
        "\n",
        "Este conjunto de datos de cáncer de mama se obtuvo de los Hospitales de la Universidad de Wisconsin, Madison del Dr. William H. Wolberg.\n",
        "\n",
        "\n",
        "[Breast Cancer](https://www.kaggle.com/datasets/merishnasuwal/breast-cancer-prediction-dataset)"
      ],
      "metadata": {
        "id": "TzbYeAAjXDjM"
      }
    },
    {
      "cell_type": "markdown",
      "source": [
        "Para dar incio a los analisis del archivo scv, se importarán las bibliotecas requeridas para que este pueda ser llevado acabo, tenemos pandas, la cual es una libreria para la estructura de datos, numpy, que corresponde a la librería que permite realizar operaciones matemáticas, así mismo tenemos seabor, la cual nos permite la visualización de los datos, tenemos matplotlib, la cuál nos permite generar gráficos a partir de datos contenidos en listas o arrays, tenemos statistics, la cual ofrece funciones para el cálculo de valores estadísticos, en el campo de los números reales, tenemos una libreria para graficos, conocida como pylab, así mismo una que contiene herramientas eficientes para el aprendizaje automático y modelado estadístico, incluyendo clasificación, regresión, agrupación, y reducción de dimensionalidad, llamada sklearn, y ya para finalizar, tenemos csv, que nos da la posibilidad de leer archivos de tipo .csv."
      ],
      "metadata": {
        "id": "MFoMQL4Ufpya"
      }
    },
    {
      "cell_type": "code",
      "execution_count": null,
      "metadata": {
        "id": "EJukilYx7hm5"
      },
      "outputs": [],
      "source": [
        "import pandas as pd \n",
        "import numpy as np \n",
        "import seaborn as sns \n",
        "import matplotlib.pyplot as plt \n",
        "from statistics import mean \n",
        "import pylab as pl\n",
        "import sklearn\n",
        "import csv "
      ]
    },
    {
      "cell_type": "markdown",
      "source": [
        "En esta primera parte, se carga el dataset, en un objeto pandas \"Dataframe\", así mismo se generan los datos del dataset, para que puedan ser visualizados."
      ],
      "metadata": {
        "id": "QbLRByU0ZQ32"
      }
    },
    {
      "cell_type": "code",
      "source": [
        "url = '/content/Breast_cancer_data.csv'\n",
        "df = pd.read_csv(url)\n",
        "df.head()"
      ],
      "metadata": {
        "colab": {
          "base_uri": "https://localhost:8080/",
          "height": 206
        },
        "id": "VZERGvxIIHGy",
        "outputId": "b16ace9a-7c61-4926-f756-8aa1160b5f19"
      },
      "execution_count": null,
      "outputs": [
        {
          "output_type": "execute_result",
          "data": {
            "text/plain": [
              "   mean_radius  mean_texture  mean_perimeter  mean_area  mean_smoothness  \\\n",
              "0        17.99         10.38          122.80     1001.0          0.11840   \n",
              "1        20.57         17.77          132.90     1326.0          0.08474   \n",
              "2        19.69         21.25          130.00     1203.0          0.10960   \n",
              "3        11.42         20.38           77.58      386.1          0.14250   \n",
              "4        20.29         14.34          135.10     1297.0          0.10030   \n",
              "\n",
              "   diagnosis  \n",
              "0          0  \n",
              "1          0  \n",
              "2          0  \n",
              "3          0  \n",
              "4          0  "
            ],
            "text/html": [
              "\n",
              "  <div id=\"df-239755e5-3de1-4df5-a73c-cc63d1b680fb\">\n",
              "    <div class=\"colab-df-container\">\n",
              "      <div>\n",
              "<style scoped>\n",
              "    .dataframe tbody tr th:only-of-type {\n",
              "        vertical-align: middle;\n",
              "    }\n",
              "\n",
              "    .dataframe tbody tr th {\n",
              "        vertical-align: top;\n",
              "    }\n",
              "\n",
              "    .dataframe thead th {\n",
              "        text-align: right;\n",
              "    }\n",
              "</style>\n",
              "<table border=\"1\" class=\"dataframe\">\n",
              "  <thead>\n",
              "    <tr style=\"text-align: right;\">\n",
              "      <th></th>\n",
              "      <th>mean_radius</th>\n",
              "      <th>mean_texture</th>\n",
              "      <th>mean_perimeter</th>\n",
              "      <th>mean_area</th>\n",
              "      <th>mean_smoothness</th>\n",
              "      <th>diagnosis</th>\n",
              "    </tr>\n",
              "  </thead>\n",
              "  <tbody>\n",
              "    <tr>\n",
              "      <th>0</th>\n",
              "      <td>17.99</td>\n",
              "      <td>10.38</td>\n",
              "      <td>122.80</td>\n",
              "      <td>1001.0</td>\n",
              "      <td>0.11840</td>\n",
              "      <td>0</td>\n",
              "    </tr>\n",
              "    <tr>\n",
              "      <th>1</th>\n",
              "      <td>20.57</td>\n",
              "      <td>17.77</td>\n",
              "      <td>132.90</td>\n",
              "      <td>1326.0</td>\n",
              "      <td>0.08474</td>\n",
              "      <td>0</td>\n",
              "    </tr>\n",
              "    <tr>\n",
              "      <th>2</th>\n",
              "      <td>19.69</td>\n",
              "      <td>21.25</td>\n",
              "      <td>130.00</td>\n",
              "      <td>1203.0</td>\n",
              "      <td>0.10960</td>\n",
              "      <td>0</td>\n",
              "    </tr>\n",
              "    <tr>\n",
              "      <th>3</th>\n",
              "      <td>11.42</td>\n",
              "      <td>20.38</td>\n",
              "      <td>77.58</td>\n",
              "      <td>386.1</td>\n",
              "      <td>0.14250</td>\n",
              "      <td>0</td>\n",
              "    </tr>\n",
              "    <tr>\n",
              "      <th>4</th>\n",
              "      <td>20.29</td>\n",
              "      <td>14.34</td>\n",
              "      <td>135.10</td>\n",
              "      <td>1297.0</td>\n",
              "      <td>0.10030</td>\n",
              "      <td>0</td>\n",
              "    </tr>\n",
              "  </tbody>\n",
              "</table>\n",
              "</div>\n",
              "      <button class=\"colab-df-convert\" onclick=\"convertToInteractive('df-239755e5-3de1-4df5-a73c-cc63d1b680fb')\"\n",
              "              title=\"Convert this dataframe to an interactive table.\"\n",
              "              style=\"display:none;\">\n",
              "        \n",
              "  <svg xmlns=\"http://www.w3.org/2000/svg\" height=\"24px\"viewBox=\"0 0 24 24\"\n",
              "       width=\"24px\">\n",
              "    <path d=\"M0 0h24v24H0V0z\" fill=\"none\"/>\n",
              "    <path d=\"M18.56 5.44l.94 2.06.94-2.06 2.06-.94-2.06-.94-.94-2.06-.94 2.06-2.06.94zm-11 1L8.5 8.5l.94-2.06 2.06-.94-2.06-.94L8.5 2.5l-.94 2.06-2.06.94zm10 10l.94 2.06.94-2.06 2.06-.94-2.06-.94-.94-2.06-.94 2.06-2.06.94z\"/><path d=\"M17.41 7.96l-1.37-1.37c-.4-.4-.92-.59-1.43-.59-.52 0-1.04.2-1.43.59L10.3 9.45l-7.72 7.72c-.78.78-.78 2.05 0 2.83L4 21.41c.39.39.9.59 1.41.59.51 0 1.02-.2 1.41-.59l7.78-7.78 2.81-2.81c.8-.78.8-2.07 0-2.86zM5.41 20L4 18.59l7.72-7.72 1.47 1.35L5.41 20z\"/>\n",
              "  </svg>\n",
              "      </button>\n",
              "      \n",
              "  <style>\n",
              "    .colab-df-container {\n",
              "      display:flex;\n",
              "      flex-wrap:wrap;\n",
              "      gap: 12px;\n",
              "    }\n",
              "\n",
              "    .colab-df-convert {\n",
              "      background-color: #E8F0FE;\n",
              "      border: none;\n",
              "      border-radius: 50%;\n",
              "      cursor: pointer;\n",
              "      display: none;\n",
              "      fill: #1967D2;\n",
              "      height: 32px;\n",
              "      padding: 0 0 0 0;\n",
              "      width: 32px;\n",
              "    }\n",
              "\n",
              "    .colab-df-convert:hover {\n",
              "      background-color: #E2EBFA;\n",
              "      box-shadow: 0px 1px 2px rgba(60, 64, 67, 0.3), 0px 1px 3px 1px rgba(60, 64, 67, 0.15);\n",
              "      fill: #174EA6;\n",
              "    }\n",
              "\n",
              "    [theme=dark] .colab-df-convert {\n",
              "      background-color: #3B4455;\n",
              "      fill: #D2E3FC;\n",
              "    }\n",
              "\n",
              "    [theme=dark] .colab-df-convert:hover {\n",
              "      background-color: #434B5C;\n",
              "      box-shadow: 0px 1px 3px 1px rgba(0, 0, 0, 0.15);\n",
              "      filter: drop-shadow(0px 1px 2px rgba(0, 0, 0, 0.3));\n",
              "      fill: #FFFFFF;\n",
              "    }\n",
              "  </style>\n",
              "\n",
              "      <script>\n",
              "        const buttonEl =\n",
              "          document.querySelector('#df-239755e5-3de1-4df5-a73c-cc63d1b680fb button.colab-df-convert');\n",
              "        buttonEl.style.display =\n",
              "          google.colab.kernel.accessAllowed ? 'block' : 'none';\n",
              "\n",
              "        async function convertToInteractive(key) {\n",
              "          const element = document.querySelector('#df-239755e5-3de1-4df5-a73c-cc63d1b680fb');\n",
              "          const dataTable =\n",
              "            await google.colab.kernel.invokeFunction('convertToInteractive',\n",
              "                                                     [key], {});\n",
              "          if (!dataTable) return;\n",
              "\n",
              "          const docLinkHtml = 'Like what you see? Visit the ' +\n",
              "            '<a target=\"_blank\" href=https://colab.research.google.com/notebooks/data_table.ipynb>data table notebook</a>'\n",
              "            + ' to learn more about interactive tables.';\n",
              "          element.innerHTML = '';\n",
              "          dataTable['output_type'] = 'display_data';\n",
              "          await google.colab.output.renderOutput(dataTable, element);\n",
              "          const docLink = document.createElement('div');\n",
              "          docLink.innerHTML = docLinkHtml;\n",
              "          element.appendChild(docLink);\n",
              "        }\n",
              "      </script>\n",
              "    </div>\n",
              "  </div>\n",
              "  "
            ]
          },
          "metadata": {},
          "execution_count": 2
        }
      ]
    },
    {
      "cell_type": "markdown",
      "source": [
        "A continuación se validan los promedios por columna del dataset."
      ],
      "metadata": {
        "id": "F3vW3_6Galqu"
      }
    },
    {
      "cell_type": "code",
      "source": [
        "df.mean()"
      ],
      "metadata": {
        "colab": {
          "base_uri": "https://localhost:8080/"
        },
        "id": "OtQjMwRnH9mq",
        "outputId": "3643498c-fea7-49f3-f744-d160a7582635"
      },
      "execution_count": null,
      "outputs": [
        {
          "output_type": "execute_result",
          "data": {
            "text/plain": [
              "mean_radius         14.127292\n",
              "mean_texture        19.289649\n",
              "mean_perimeter      91.969033\n",
              "mean_area          654.889104\n",
              "mean_smoothness      0.096360\n",
              "diagnosis            0.627417\n",
              "dtype: float64"
            ]
          },
          "metadata": {},
          "execution_count": 3
        }
      ]
    },
    {
      "cell_type": "markdown",
      "source": [
        "En esta parte se obtiene la desviación estndar por columna."
      ],
      "metadata": {
        "id": "VhAYGKPrayY8"
      }
    },
    {
      "cell_type": "code",
      "source": [
        "df.std()"
      ],
      "metadata": {
        "colab": {
          "base_uri": "https://localhost:8080/"
        },
        "id": "ueGoTg8cIzjI",
        "outputId": "59a70aad-c6a6-4e66-a1ca-541eef1c5ab1"
      },
      "execution_count": null,
      "outputs": [
        {
          "output_type": "execute_result",
          "data": {
            "text/plain": [
              "mean_radius          3.524049\n",
              "mean_texture         4.301036\n",
              "mean_perimeter      24.298981\n",
              "mean_area          351.914129\n",
              "mean_smoothness      0.014064\n",
              "diagnosis            0.483918\n",
              "dtype: float64"
            ]
          },
          "metadata": {},
          "execution_count": 4
        }
      ]
    },
    {
      "cell_type": "markdown",
      "source": [
        "El color mas claro de esta gráfica representa el dato mas influyente del dataset."
      ],
      "metadata": {
        "id": "DtHMRTRNa-Ai"
      }
    },
    {
      "cell_type": "code",
      "source": [
        "df.corr()\n",
        "plt.figure(figsize=(10,3))\n",
        "sns.heatmap(df.corr(), cmap='Blues_r')\n",
        "plt.title('Gráfica de calor: Correlación del cáncer de mama de las variables numéricas')\n",
        "plt.show()"
      ],
      "metadata": {
        "colab": {
          "base_uri": "https://localhost:8080/",
          "height": 310
        },
        "id": "kLwYtkHuI5hd",
        "outputId": "748c161c-6f47-4b11-c470-08329315ffc5"
      },
      "execution_count": null,
      "outputs": [
        {
          "output_type": "display_data",
          "data": {
            "text/plain": [
              "<Figure size 720x216 with 2 Axes>"
            ],
            "image/png": "[encoded data removed]"
          },
          "metadata": {
            "needs_background": "light"
          }
        }
      ]
    },
    {
      "cell_type": "markdown",
      "source": [
        "Se realiza e una sola función (decribe), el resumen de los datos, en este caso sacamos la cantidad de los datos en total, el cuál esta representado por la palabra count, tenemos así mismo el promedio de los datos, representado por la palabra mean, tenemos std, que son los valores estandar, el valor minimo, los porcentajes 25%, 50%, 75% de los datos, y finalmente el valor máximo de los datos del dataset. "
      ],
      "metadata": {
        "id": "6tPZZPuubN9j"
      }
    },
    {
      "cell_type": "code",
      "source": [
        "df.describe()"
      ],
      "metadata": {
        "colab": {
          "base_uri": "https://localhost:8080/",
          "height": 300
        },
        "id": "7drAwMyDJDGv",
        "outputId": "2f6b080a-618b-4913-9786-5790d0b736a1"
      },
      "execution_count": null,
      "outputs": [
        {
          "output_type": "execute_result",
          "data": {
            "text/plain": [
              "       mean_radius  mean_texture  mean_perimeter    mean_area  \\\n",
              "count   569.000000    569.000000      569.000000   569.000000   \n",
              "mean     14.127292     19.289649       91.969033   654.889104   \n",
              "std       3.524049      4.301036       24.298981   351.914129   \n",
              "min       6.981000      9.710000       43.790000   143.500000   \n",
              "25%      11.700000     16.170000       75.170000   420.300000   \n",
              "50%      13.370000     18.840000       86.240000   551.100000   \n",
              "75%      15.780000     21.800000      104.100000   782.700000   \n",
              "max      28.110000     39.280000      188.500000  2501.000000   \n",
              "\n",
              "       mean_smoothness   diagnosis  \n",
              "count       569.000000  569.000000  \n",
              "mean          0.096360    0.627417  \n",
              "std           0.014064    0.483918  \n",
              "min           0.052630    0.000000  \n",
              "25%           0.086370    0.000000  \n",
              "50%           0.095870    1.000000  \n",
              "75%           0.105300    1.000000  \n",
              "max           0.163400    1.000000  "
            ],
            "text/html": [
              "\n",
              "  <div id=\"df-fdadd406-d174-45d1-847b-e91616f90e96\">\n",
              "    <div class=\"colab-df-container\">\n",
              "      <div>\n",
              "<style scoped>\n",
              "    .dataframe tbody tr th:only-of-type {\n",
              "        vertical-align: middle;\n",
              "    }\n",
              "\n",
              "    .dataframe tbody tr th {\n",
              "        vertical-align: top;\n",
              "    }\n",
              "\n",
              "    .dataframe thead th {\n",
              "        text-align: right;\n",
              "    }\n",
              "</style>\n",
              "<table border=\"1\" class=\"dataframe\">\n",
              "  <thead>\n",
              "    <tr style=\"text-align: right;\">\n",
              "      <th></th>\n",
              "      <th>mean_radius</th>\n",
              "      <th>mean_texture</th>\n",
              "      <th>mean_perimeter</th>\n",
              "      <th>mean_area</th>\n",
              "      <th>mean_smoothness</th>\n",
              "      <th>diagnosis</th>\n",
              "    </tr>\n",
              "  </thead>\n",
              "  <tbody>\n",
              "    <tr>\n",
              "      <th>count</th>\n",
              "      <td>569.000000</td>\n",
              "      <td>569.000000</td>\n",
              "      <td>569.000000</td>\n",
              "      <td>569.000000</td>\n",
              "      <td>569.000000</td>\n",
              "      <td>569.000000</td>\n",
              "    </tr>\n",
              "    <tr>\n",
              "      <th>mean</th>\n",
              "      <td>14.127292</td>\n",
              "      <td>19.289649</td>\n",
              "      <td>91.969033</td>\n",
              "      <td>654.889104</td>\n",
              "      <td>0.096360</td>\n",
              "      <td>0.627417</td>\n",
              "    </tr>\n",
              "    <tr>\n",
              "      <th>std</th>\n",
              "      <td>3.524049</td>\n",
              "      <td>4.301036</td>\n",
              "      <td>24.298981</td>\n",
              "      <td>351.914129</td>\n",
              "      <td>0.014064</td>\n",
              "      <td>0.483918</td>\n",
              "    </tr>\n",
              "    <tr>\n",
              "      <th>min</th>\n",
              "      <td>6.981000</td>\n",
              "      <td>9.710000</td>\n",
              "      <td>43.790000</td>\n",
              "      <td>143.500000</td>\n",
              "      <td>0.052630</td>\n",
              "      <td>0.000000</td>\n",
              "    </tr>\n",
              "    <tr>\n",
              "      <th>25%</th>\n",
              "      <td>11.700000</td>\n",
              "      <td>16.170000</td>\n",
              "      <td>75.170000</td>\n",
              "      <td>420.300000</td>\n",
              "      <td>0.086370</td>\n",
              "      <td>0.000000</td>\n",
              "    </tr>\n",
              "    <tr>\n",
              "      <th>50%</th>\n",
              "      <td>13.370000</td>\n",
              "      <td>18.840000</td>\n",
              "      <td>86.240000</td>\n",
              "      <td>551.100000</td>\n",
              "      <td>0.095870</td>\n",
              "      <td>1.000000</td>\n",
              "    </tr>\n",
              "    <tr>\n",
              "      <th>75%</th>\n",
              "      <td>15.780000</td>\n",
              "      <td>21.800000</td>\n",
              "      <td>104.100000</td>\n",
              "      <td>782.700000</td>\n",
              "      <td>0.105300</td>\n",
              "      <td>1.000000</td>\n",
              "    </tr>\n",
              "    <tr>\n",
              "      <th>max</th>\n",
              "      <td>28.110000</td>\n",
              "      <td>39.280000</td>\n",
              "      <td>188.500000</td>\n",
              "      <td>2501.000000</td>\n",
              "      <td>0.163400</td>\n",
              "      <td>1.000000</td>\n",
              "    </tr>\n",
              "  </tbody>\n",
              "</table>\n",
              "</div>\n",
              "      <button class=\"colab-df-convert\" onclick=\"convertToInteractive('df-fdadd406-d174-45d1-847b-e91616f90e96')\"\n",
              "              title=\"Convert this dataframe to an interactive table.\"\n",
              "              style=\"display:none;\">\n",
              "        \n",
              "  <svg xmlns=\"http://www.w3.org/2000/svg\" height=\"24px\"viewBox=\"0 0 24 24\"\n",
              "       width=\"24px\">\n",
              "    <path d=\"M0 0h24v24H0V0z\" fill=\"none\"/>\n",
              "    <path d=\"M18.56 5.44l.94 2.06.94-2.06 2.06-.94-2.06-.94-.94-2.06-.94 2.06-2.06.94zm-11 1L8.5 8.5l.94-2.06 2.06-.94-2.06-.94L8.5 2.5l-.94 2.06-2.06.94zm10 10l.94 2.06.94-2.06 2.06-.94-2.06-.94-.94-2.06-.94 2.06-2.06.94z\"/><path d=\"M17.41 7.96l-1.37-1.37c-.4-.4-.92-.59-1.43-.59-.52 0-1.04.2-1.43.59L10.3 9.45l-7.72 7.72c-.78.78-.78 2.05 0 2.83L4 21.41c.39.39.9.59 1.41.59.51 0 1.02-.2 1.41-.59l7.78-7.78 2.81-2.81c.8-.78.8-2.07 0-2.86zM5.41 20L4 18.59l7.72-7.72 1.47 1.35L5.41 20z\"/>\n",
              "  </svg>\n",
              "      </button>\n",
              "      \n",
              "  <style>\n",
              "    .colab-df-container {\n",
              "      display:flex;\n",
              "      flex-wrap:wrap;\n",
              "      gap: 12px;\n",
              "    }\n",
              "\n",
              "    .colab-df-convert {\n",
              "      background-color: #E8F0FE;\n",
              "      border: none;\n",
              "      border-radius: 50%;\n",
              "      cursor: pointer;\n",
              "      display: none;\n",
              "      fill: #1967D2;\n",
              "      height: 32px;\n",
              "      padding: 0 0 0 0;\n",
              "      width: 32px;\n",
              "    }\n",
              "\n",
              "    .colab-df-convert:hover {\n",
              "      background-color: #E2EBFA;\n",
              "      box-shadow: 0px 1px 2px rgba(60, 64, 67, 0.3), 0px 1px 3px 1px rgba(60, 64, 67, 0.15);\n",
              "      fill: #174EA6;\n",
              "    }\n",
              "\n",
              "    [theme=dark] .colab-df-convert {\n",
              "      background-color: #3B4455;\n",
              "      fill: #D2E3FC;\n",
              "    }\n",
              "\n",
              "    [theme=dark] .colab-df-convert:hover {\n",
              "      background-color: #434B5C;\n",
              "      box-shadow: 0px 1px 3px 1px rgba(0, 0, 0, 0.15);\n",
              "      filter: drop-shadow(0px 1px 2px rgba(0, 0, 0, 0.3));\n",
              "      fill: #FFFFFF;\n",
              "    }\n",
              "  </style>\n",
              "\n",
              "      <script>\n",
              "        const buttonEl =\n",
              "          document.querySelector('#df-fdadd406-d174-45d1-847b-e91616f90e96 button.colab-df-convert');\n",
              "        buttonEl.style.display =\n",
              "          google.colab.kernel.accessAllowed ? 'block' : 'none';\n",
              "\n",
              "        async function convertToInteractive(key) {\n",
              "          const element = document.querySelector('#df-fdadd406-d174-45d1-847b-e91616f90e96');\n",
              "          const dataTable =\n",
              "            await google.colab.kernel.invokeFunction('convertToInteractive',\n",
              "                                                     [key], {});\n",
              "          if (!dataTable) return;\n",
              "\n",
              "          const docLinkHtml = 'Like what you see? Visit the ' +\n",
              "            '<a target=\"_blank\" href=https://colab.research.google.com/notebooks/data_table.ipynb>data table notebook</a>'\n",
              "            + ' to learn more about interactive tables.';\n",
              "          element.innerHTML = '';\n",
              "          dataTable['output_type'] = 'display_data';\n",
              "          await google.colab.output.renderOutput(dataTable, element);\n",
              "          const docLink = document.createElement('div');\n",
              "          docLink.innerHTML = docLinkHtml;\n",
              "          element.appendChild(docLink);\n",
              "        }\n",
              "      </script>\n",
              "    </div>\n",
              "  </div>\n",
              "  "
            ]
          },
          "metadata": {},
          "execution_count": 6
        }
      ]
    },
    {
      "cell_type": "markdown",
      "source": [
        "Estas gráficas representan las caracteristicas de cada variabe con respecto al número que tiene cada una."
      ],
      "metadata": {
        "id": "0q9kcxslb5B_"
      }
    },
    {
      "cell_type": "code",
      "source": [
        "viz = df\n",
        "viz.hist()\n",
        "plt.show()"
      ],
      "metadata": {
        "colab": {
          "base_uri": "https://localhost:8080/",
          "height": 281
        },
        "id": "XAhkfKb9JGCi",
        "outputId": "b17f5bc8-79c1-40ce-e901-a003ac028e65"
      },
      "execution_count": null,
      "outputs": [
        {
          "output_type": "display_data",
          "data": {
            "text/plain": [
              "<Figure size 432x288 with 6 Axes>"
            ],
            "image/png": "[encoded data removed]"
          },
          "metadata": {
            "needs_background": "light"
          }
        }
      ]
    },
    {
      "cell_type": "markdown",
      "source": [
        "Es este esquema, se gráfica cada una de las columnas con variable independiente con respecto a la variable dependiente."
      ],
      "metadata": {
        "id": "DdsBNYMzcHLm"
      }
    },
    {
      "cell_type": "code",
      "source": [
        "plt.scatter(df[\"mean_radius\"], df[\"diagnosis\"], c = 'Blue')\n",
        "plt.scatter(df[\"mean_texture\"], df[\"diagnosis\"], c = 'Black')\n",
        "plt.scatter(df[\"mean_perimeter\"], df[\"diagnosis\"], c = 'Dimgray')\n",
        "plt.scatter(df[\"mean_area\"], df[\"diagnosis\"], c = 'Grey')\n",
        "plt.scatter(df[\"mean_smoothness\"], df[\"diagnosis\"], c = 'Pink')\n",
        "\n",
        "plt.ylabel(\"VariableDependeinte\")\n",
        "plt.show()"
      ],
      "metadata": {
        "colab": {
          "base_uri": "https://localhost:8080/",
          "height": 265
        },
        "id": "mTA-lShjJP5K",
        "outputId": "f2af61e9-b9d1-4fa1-de97-af021665eee0"
      },
      "execution_count": null,
      "outputs": [
        {
          "output_type": "display_data",
          "data": {
            "text/plain": [
              "<Figure size 432x288 with 1 Axes>"
            ],
            "image/png": "[encoded data removed]"
          },
          "metadata": {
            "needs_background": "light"
          }
        }
      ]
    },
    {
      "cell_type": "markdown",
      "source": [
        "Esta función nos muestra los valores nulos del dataset."
      ],
      "metadata": {
        "id": "i_QozwSIcbvB"
      }
    },
    {
      "cell_type": "code",
      "source": [
        "df.isnull()"
      ],
      "metadata": {
        "colab": {
          "base_uri": "https://localhost:8080/",
          "height": 424
        },
        "id": "3AOox2ThMePU",
        "outputId": "697af4d9-f017-4f61-999f-6235b7eec541"
      },
      "execution_count": null,
      "outputs": [
        {
          "output_type": "execute_result",
          "data": {
            "text/plain": [
              "     mean_radius  mean_texture  mean_perimeter  mean_area  mean_smoothness  \\\n",
              "0          False         False           False      False            False   \n",
              "1          False         False           False      False            False   \n",
              "2          False         False           False      False            False   \n",
              "3          False         False           False      False            False   \n",
              "4          False         False           False      False            False   \n",
              "..           ...           ...             ...        ...              ...   \n",
              "564        False         False           False      False            False   \n",
              "565        False         False           False      False            False   \n",
              "566        False         False           False      False            False   \n",
              "567        False         False           False      False            False   \n",
              "568        False         False           False      False            False   \n",
              "\n",
              "     diagnosis  \n",
              "0        False  \n",
              "1        False  \n",
              "2        False  \n",
              "3        False  \n",
              "4        False  \n",
              "..         ...  \n",
              "564      False  \n",
              "565      False  \n",
              "566      False  \n",
              "567      False  \n",
              "568      False  \n",
              "\n",
              "[569 rows x 6 columns]"
            ],
            "text/html": [
              "\n",
              "  <div id=\"df-9ab71e93-7acd-4644-9a57-a4be6e707308\">\n",
              "    <div class=\"colab-df-container\">\n",
              "      <div>\n",
              "<style scoped>\n",
              "    .dataframe tbody tr th:only-of-type {\n",
              "        vertical-align: middle;\n",
              "    }\n",
              "\n",
              "    .dataframe tbody tr th {\n",
              "        vertical-align: top;\n",
              "    }\n",
              "\n",
              "    .dataframe thead th {\n",
              "        text-align: right;\n",
              "    }\n",
              "</style>\n",
              "<table border=\"1\" class=\"dataframe\">\n",
              "  <thead>\n",
              "    <tr style=\"text-align: right;\">\n",
              "      <th></th>\n",
              "      <th>mean_radius</th>\n",
              "      <th>mean_texture</th>\n",
              "      <th>mean_perimeter</th>\n",
              "      <th>mean_area</th>\n",
              "      <th>mean_smoothness</th>\n",
              "      <th>diagnosis</th>\n",
              "    </tr>\n",
              "  </thead>\n",
              "  <tbody>\n",
              "    <tr>\n",
              "      <th>0</th>\n",
              "      <td>False</td>\n",
              "      <td>False</td>\n",
              "      <td>False</td>\n",
              "      <td>False</td>\n",
              "      <td>False</td>\n",
              "      <td>False</td>\n",
              "    </tr>\n",
              "    <tr>\n",
              "      <th>1</th>\n",
              "      <td>False</td>\n",
              "      <td>False</td>\n",
              "      <td>False</td>\n",
              "      <td>False</td>\n",
              "      <td>False</td>\n",
              "      <td>False</td>\n",
              "    </tr>\n",
              "    <tr>\n",
              "      <th>2</th>\n",
              "      <td>False</td>\n",
              "      <td>False</td>\n",
              "      <td>False</td>\n",
              "      <td>False</td>\n",
              "      <td>False</td>\n",
              "      <td>False</td>\n",
              "    </tr>\n",
              "    <tr>\n",
              "      <th>3</th>\n",
              "      <td>False</td>\n",
              "      <td>False</td>\n",
              "      <td>False</td>\n",
              "      <td>False</td>\n",
              "      <td>False</td>\n",
              "      <td>False</td>\n",
              "    </tr>\n",
              "    <tr>\n",
              "      <th>4</th>\n",
              "      <td>False</td>\n",
              "      <td>False</td>\n",
              "      <td>False</td>\n",
              "      <td>False</td>\n",
              "      <td>False</td>\n",
              "      <td>False</td>\n",
              "    </tr>\n",
              "    <tr>\n",
              "      <th>...</th>\n",
              "      <td>...</td>\n",
              "      <td>...</td>\n",
              "      <td>...</td>\n",
              "      <td>...</td>\n",
              "      <td>...</td>\n",
              "      <td>...</td>\n",
              "    </tr>\n",
              "    <tr>\n",
              "      <th>564</th>\n",
              "      <td>False</td>\n",
              "      <td>False</td>\n",
              "      <td>False</td>\n",
              "      <td>False</td>\n",
              "      <td>False</td>\n",
              "      <td>False</td>\n",
              "    </tr>\n",
              "    <tr>\n",
              "      <th>565</th>\n",
              "      <td>False</td>\n",
              "      <td>False</td>\n",
              "      <td>False</td>\n",
              "      <td>False</td>\n",
              "      <td>False</td>\n",
              "      <td>False</td>\n",
              "    </tr>\n",
              "    <tr>\n",
              "      <th>566</th>\n",
              "      <td>False</td>\n",
              "      <td>False</td>\n",
              "      <td>False</td>\n",
              "      <td>False</td>\n",
              "      <td>False</td>\n",
              "      <td>False</td>\n",
              "    </tr>\n",
              "    <tr>\n",
              "      <th>567</th>\n",
              "      <td>False</td>\n",
              "      <td>False</td>\n",
              "      <td>False</td>\n",
              "      <td>False</td>\n",
              "      <td>False</td>\n",
              "      <td>False</td>\n",
              "    </tr>\n",
              "    <tr>\n",
              "      <th>568</th>\n",
              "      <td>False</td>\n",
              "      <td>False</td>\n",
              "      <td>False</td>\n",
              "      <td>False</td>\n",
              "      <td>False</td>\n",
              "      <td>False</td>\n",
              "    </tr>\n",
              "  </tbody>\n",
              "</table>\n",
              "<p>569 rows × 6 columns</p>\n",
              "</div>\n",
              "      <button class=\"colab-df-convert\" onclick=\"convertToInteractive('df-9ab71e93-7acd-4644-9a57-a4be6e707308')\"\n",
              "              title=\"Convert this dataframe to an interactive table.\"\n",
              "              style=\"display:none;\">\n",
              "        \n",
              "  <svg xmlns=\"http://www.w3.org/2000/svg\" height=\"24px\"viewBox=\"0 0 24 24\"\n",
              "       width=\"24px\">\n",
              "    <path d=\"M0 0h24v24H0V0z\" fill=\"none\"/>\n",
              "    <path d=\"M18.56 5.44l.94 2.06.94-2.06 2.06-.94-2.06-.94-.94-2.06-.94 2.06-2.06.94zm-11 1L8.5 8.5l.94-2.06 2.06-.94-2.06-.94L8.5 2.5l-.94 2.06-2.06.94zm10 10l.94 2.06.94-2.06 2.06-.94-2.06-.94-.94-2.06-.94 2.06-2.06.94z\"/><path d=\"M17.41 7.96l-1.37-1.37c-.4-.4-.92-.59-1.43-.59-.52 0-1.04.2-1.43.59L10.3 9.45l-7.72 7.72c-.78.78-.78 2.05 0 2.83L4 21.41c.39.39.9.59 1.41.59.51 0 1.02-.2 1.41-.59l7.78-7.78 2.81-2.81c.8-.78.8-2.07 0-2.86zM5.41 20L4 18.59l7.72-7.72 1.47 1.35L5.41 20z\"/>\n",
              "  </svg>\n",
              "      </button>\n",
              "      \n",
              "  <style>\n",
              "    .colab-df-container {\n",
              "      display:flex;\n",
              "      flex-wrap:wrap;\n",
              "      gap: 12px;\n",
              "    }\n",
              "\n",
              "    .colab-df-convert {\n",
              "      background-color: #E8F0FE;\n",
              "      border: none;\n",
              "      border-radius: 50%;\n",
              "      cursor: pointer;\n",
              "      display: none;\n",
              "      fill: #1967D2;\n",
              "      height: 32px;\n",
              "      padding: 0 0 0 0;\n",
              "      width: 32px;\n",
              "    }\n",
              "\n",
              "    .colab-df-convert:hover {\n",
              "      background-color: #E2EBFA;\n",
              "      box-shadow: 0px 1px 2px rgba(60, 64, 67, 0.3), 0px 1px 3px 1px rgba(60, 64, 67, 0.15);\n",
              "      fill: #174EA6;\n",
              "    }\n",
              "\n",
              "    [theme=dark] .colab-df-convert {\n",
              "      background-color: #3B4455;\n",
              "      fill: #D2E3FC;\n",
              "    }\n",
              "\n",
              "    [theme=dark] .colab-df-convert:hover {\n",
              "      background-color: #434B5C;\n",
              "      box-shadow: 0px 1px 3px 1px rgba(0, 0, 0, 0.15);\n",
              "      filter: drop-shadow(0px 1px 2px rgba(0, 0, 0, 0.3));\n",
              "      fill: #FFFFFF;\n",
              "    }\n",
              "  </style>\n",
              "\n",
              "      <script>\n",
              "        const buttonEl =\n",
              "          document.querySelector('#df-9ab71e93-7acd-4644-9a57-a4be6e707308 button.colab-df-convert');\n",
              "        buttonEl.style.display =\n",
              "          google.colab.kernel.accessAllowed ? 'block' : 'none';\n",
              "\n",
              "        async function convertToInteractive(key) {\n",
              "          const element = document.querySelector('#df-9ab71e93-7acd-4644-9a57-a4be6e707308');\n",
              "          const dataTable =\n",
              "            await google.colab.kernel.invokeFunction('convertToInteractive',\n",
              "                                                     [key], {});\n",
              "          if (!dataTable) return;\n",
              "\n",
              "          const docLinkHtml = 'Like what you see? Visit the ' +\n",
              "            '<a target=\"_blank\" href=https://colab.research.google.com/notebooks/data_table.ipynb>data table notebook</a>'\n",
              "            + ' to learn more about interactive tables.';\n",
              "          element.innerHTML = '';\n",
              "          dataTable['output_type'] = 'display_data';\n",
              "          await google.colab.output.renderOutput(dataTable, element);\n",
              "          const docLink = document.createElement('div');\n",
              "          docLink.innerHTML = docLinkHtml;\n",
              "          element.appendChild(docLink);\n",
              "        }\n",
              "      </script>\n",
              "    </div>\n",
              "  </div>\n",
              "  "
            ]
          },
          "metadata": {},
          "execution_count": 9
        }
      ]
    },
    {
      "cell_type": "markdown",
      "source": [
        "Con esta función verificamos la cantidad de datos con los que contamos, así mismo las columnas, es decir, tenemos 569 datos y 6 columnas"
      ],
      "metadata": {
        "id": "h8Q6yJvhciLd"
      }
    },
    {
      "cell_type": "code",
      "source": [
        "print(df.shape)"
      ],
      "metadata": {
        "colab": {
          "base_uri": "https://localhost:8080/"
        },
        "id": "azEPlMBxMgG5",
        "outputId": "0d70ce96-9691-4324-a804-15ffe1ed510d"
      },
      "execution_count": null,
      "outputs": [
        {
          "output_type": "stream",
          "name": "stdout",
          "text": [
            "(569, 6)\n"
          ]
        }
      ]
    },
    {
      "cell_type": "markdown",
      "source": [
        "Primeramente se definirá como X, la regresión lineal multiple, dando como resultado dichos valores."
      ],
      "metadata": {
        "id": "AZRXRXalc0XW"
      }
    },
    {
      "cell_type": "code",
      "source": [
        "X_multiple = df[['mean_radius', 'mean_texture', 'mean_perimeter', 'mean_area', 'mean_smoothness']]\n",
        "print(X_multiple)"
      ],
      "metadata": {
        "colab": {
          "base_uri": "https://localhost:8080/"
        },
        "id": "LU8BNQFsMlMj",
        "outputId": "decd02cf-42ca-4f60-855f-b9a6544530f3"
      },
      "execution_count": null,
      "outputs": [
        {
          "output_type": "stream",
          "name": "stdout",
          "text": [
            "     mean_radius  mean_texture  mean_perimeter  mean_area  mean_smoothness\n",
            "0          17.99         10.38          122.80     1001.0          0.11840\n",
            "1          20.57         17.77          132.90     1326.0          0.08474\n",
            "2          19.69         21.25          130.00     1203.0          0.10960\n",
            "3          11.42         20.38           77.58      386.1          0.14250\n",
            "4          20.29         14.34          135.10     1297.0          0.10030\n",
            "..           ...           ...             ...        ...              ...\n",
            "564        21.56         22.39          142.00     1479.0          0.11100\n",
            "565        20.13         28.25          131.20     1261.0          0.09780\n",
            "566        16.60         28.08          108.30      858.1          0.08455\n",
            "567        20.60         29.33          140.10     1265.0          0.11780\n",
            "568         7.76         24.54           47.92      181.0          0.05263\n",
            "\n",
            "[569 rows x 5 columns]\n"
          ]
        }
      ]
    },
    {
      "cell_type": "markdown",
      "source": [
        "En esta se tomara la regresión lineal multiple, definiendola en Y"
      ],
      "metadata": {
        "id": "FPsagra-dMVH"
      }
    },
    {
      "cell_type": "code",
      "source": [
        "y = df[['diagnosis']]\n",
        "print(y)"
      ],
      "metadata": {
        "colab": {
          "base_uri": "https://localhost:8080/"
        },
        "id": "o1RAV6J5NVHB",
        "outputId": "d92cff03-2d5e-4afc-86ec-ceed278a4e6c"
      },
      "execution_count": null,
      "outputs": [
        {
          "output_type": "stream",
          "name": "stdout",
          "text": [
            "     diagnosis\n",
            "0            0\n",
            "1            0\n",
            "2            0\n",
            "3            0\n",
            "4            0\n",
            "..         ...\n",
            "564          0\n",
            "565          0\n",
            "566          0\n",
            "567          0\n",
            "568          1\n",
            "\n",
            "[569 rows x 1 columns]\n"
          ]
        }
      ]
    },
    {
      "cell_type": "markdown",
      "source": [
        "Se muestran los valore minimos del DataFrame"
      ],
      "metadata": {
        "id": "S-ViesosdlNz"
      }
    },
    {
      "cell_type": "code",
      "source": [
        "df.min()"
      ],
      "metadata": {
        "colab": {
          "base_uri": "https://localhost:8080/"
        },
        "id": "hynfB4KKOeRf",
        "outputId": "5942c740-4f80-43a6-897a-46dd154e6b44"
      },
      "execution_count": null,
      "outputs": [
        {
          "output_type": "execute_result",
          "data": {
            "text/plain": [
              "mean_radius          6.98100\n",
              "mean_texture         9.71000\n",
              "mean_perimeter      43.79000\n",
              "mean_area          143.50000\n",
              "mean_smoothness      0.05263\n",
              "diagnosis            0.00000\n",
              "dtype: float64"
            ]
          },
          "metadata": {},
          "execution_count": 13
        }
      ]
    },
    {
      "cell_type": "markdown",
      "source": [
        "Se muestran los valores máximos del DataFrame"
      ],
      "metadata": {
        "id": "kP_-TxsDdxaC"
      }
    },
    {
      "cell_type": "code",
      "source": [
        "df.max()"
      ],
      "metadata": {
        "colab": {
          "base_uri": "https://localhost:8080/"
        },
        "id": "srwZOzg6OrkW",
        "outputId": "6eb0b4c1-9f43-4ecc-f226-018363c64eda"
      },
      "execution_count": null,
      "outputs": [
        {
          "output_type": "execute_result",
          "data": {
            "text/plain": [
              "mean_radius          28.1100\n",
              "mean_texture         39.2800\n",
              "mean_perimeter      188.5000\n",
              "mean_area          2501.0000\n",
              "mean_smoothness       0.1634\n",
              "diagnosis             1.0000\n",
              "dtype: float64"
            ]
          },
          "metadata": {},
          "execution_count": 14
        }
      ]
    },
    {
      "cell_type": "markdown",
      "source": [
        "Esta función dependerá del valor que se digite dentro del parentesis, donde en este caso se mostrarán las primeras 15 observaciones del DataFrame."
      ],
      "metadata": {
        "id": "EhVm_JV_d3hE"
      }
    },
    {
      "cell_type": "code",
      "source": [
        "df.head(15)"
      ],
      "metadata": {
        "colab": {
          "base_uri": "https://localhost:8080/",
          "height": 520
        },
        "id": "dX-ZJZFxOyVz",
        "outputId": "17f2a558-16bd-4e05-f030-567271138946"
      },
      "execution_count": null,
      "outputs": [
        {
          "output_type": "execute_result",
          "data": {
            "text/plain": [
              "    mean_radius  mean_texture  mean_perimeter  mean_area  mean_smoothness  \\\n",
              "0         17.99         10.38          122.80     1001.0          0.11840   \n",
              "1         20.57         17.77          132.90     1326.0          0.08474   \n",
              "2         19.69         21.25          130.00     1203.0          0.10960   \n",
              "3         11.42         20.38           77.58      386.1          0.14250   \n",
              "4         20.29         14.34          135.10     1297.0          0.10030   \n",
              "5         12.45         15.70           82.57      477.1          0.12780   \n",
              "6         18.25         19.98          119.60     1040.0          0.09463   \n",
              "7         13.71         20.83           90.20      577.9          0.11890   \n",
              "8         13.00         21.82           87.50      519.8          0.12730   \n",
              "9         12.46         24.04           83.97      475.9          0.11860   \n",
              "10        16.02         23.24          102.70      797.8          0.08206   \n",
              "11        15.78         17.89          103.60      781.0          0.09710   \n",
              "12        19.17         24.80          132.40     1123.0          0.09740   \n",
              "13        15.85         23.95          103.70      782.7          0.08401   \n",
              "14        13.73         22.61           93.60      578.3          0.11310   \n",
              "\n",
              "    diagnosis  \n",
              "0           0  \n",
              "1           0  \n",
              "2           0  \n",
              "3           0  \n",
              "4           0  \n",
              "5           0  \n",
              "6           0  \n",
              "7           0  \n",
              "8           0  \n",
              "9           0  \n",
              "10          0  \n",
              "11          0  \n",
              "12          0  \n",
              "13          0  \n",
              "14          0  "
            ],
            "text/html": [
              "\n",
              "  <div id=\"df-a21353ed-73ba-46f4-ad67-bea164cc29b1\">\n",
              "    <div class=\"colab-df-container\">\n",
              "      <div>\n",
              "<style scoped>\n",
              "    .dataframe tbody tr th:only-of-type {\n",
              "        vertical-align: middle;\n",
              "    }\n",
              "\n",
              "    .dataframe tbody tr th {\n",
              "        vertical-align: top;\n",
              "    }\n",
              "\n",
              "    .dataframe thead th {\n",
              "        text-align: right;\n",
              "    }\n",
              "</style>\n",
              "<table border=\"1\" class=\"dataframe\">\n",
              "  <thead>\n",
              "    <tr style=\"text-align: right;\">\n",
              "      <th></th>\n",
              "      <th>mean_radius</th>\n",
              "      <th>mean_texture</th>\n",
              "      <th>mean_perimeter</th>\n",
              "      <th>mean_area</th>\n",
              "      <th>mean_smoothness</th>\n",
              "      <th>diagnosis</th>\n",
              "    </tr>\n",
              "  </thead>\n",
              "  <tbody>\n",
              "    <tr>\n",
              "      <th>0</th>\n",
              "      <td>17.99</td>\n",
              "      <td>10.38</td>\n",
              "      <td>122.80</td>\n",
              "      <td>1001.0</td>\n",
              "      <td>0.11840</td>\n",
              "      <td>0</td>\n",
              "    </tr>\n",
              "    <tr>\n",
              "      <th>1</th>\n",
              "      <td>20.57</td>\n",
              "      <td>17.77</td>\n",
              "      <td>132.90</td>\n",
              "      <td>1326.0</td>\n",
              "      <td>0.08474</td>\n",
              "      <td>0</td>\n",
              "    </tr>\n",
              "    <tr>\n",
              "      <th>2</th>\n",
              "      <td>19.69</td>\n",
              "      <td>21.25</td>\n",
              "      <td>130.00</td>\n",
              "      <td>1203.0</td>\n",
              "      <td>0.10960</td>\n",
              "      <td>0</td>\n",
              "    </tr>\n",
              "    <tr>\n",
              "      <th>3</th>\n",
              "      <td>11.42</td>\n",
              "      <td>20.38</td>\n",
              "      <td>77.58</td>\n",
              "      <td>386.1</td>\n",
              "      <td>0.14250</td>\n",
              "      <td>0</td>\n",
              "    </tr>\n",
              "    <tr>\n",
              "      <th>4</th>\n",
              "      <td>20.29</td>\n",
              "      <td>14.34</td>\n",
              "      <td>135.10</td>\n",
              "      <td>1297.0</td>\n",
              "      <td>0.10030</td>\n",
              "      <td>0</td>\n",
              "    </tr>\n",
              "    <tr>\n",
              "      <th>5</th>\n",
              "      <td>12.45</td>\n",
              "      <td>15.70</td>\n",
              "      <td>82.57</td>\n",
              "      <td>477.1</td>\n",
              "      <td>0.12780</td>\n",
              "      <td>0</td>\n",
              "    </tr>\n",
              "    <tr>\n",
              "      <th>6</th>\n",
              "      <td>18.25</td>\n",
              "      <td>19.98</td>\n",
              "      <td>119.60</td>\n",
              "      <td>1040.0</td>\n",
              "      <td>0.09463</td>\n",
              "      <td>0</td>\n",
              "    </tr>\n",
              "    <tr>\n",
              "      <th>7</th>\n",
              "      <td>13.71</td>\n",
              "      <td>20.83</td>\n",
              "      <td>90.20</td>\n",
              "      <td>577.9</td>\n",
              "      <td>0.11890</td>\n",
              "      <td>0</td>\n",
              "    </tr>\n",
              "    <tr>\n",
              "      <th>8</th>\n",
              "      <td>13.00</td>\n",
              "      <td>21.82</td>\n",
              "      <td>87.50</td>\n",
              "      <td>519.8</td>\n",
              "      <td>0.12730</td>\n",
              "      <td>0</td>\n",
              "    </tr>\n",
              "    <tr>\n",
              "      <th>9</th>\n",
              "      <td>12.46</td>\n",
              "      <td>24.04</td>\n",
              "      <td>83.97</td>\n",
              "      <td>475.9</td>\n",
              "      <td>0.11860</td>\n",
              "      <td>0</td>\n",
              "    </tr>\n",
              "    <tr>\n",
              "      <th>10</th>\n",
              "      <td>16.02</td>\n",
              "      <td>23.24</td>\n",
              "      <td>102.70</td>\n",
              "      <td>797.8</td>\n",
              "      <td>0.08206</td>\n",
              "      <td>0</td>\n",
              "    </tr>\n",
              "    <tr>\n",
              "      <th>11</th>\n",
              "      <td>15.78</td>\n",
              "      <td>17.89</td>\n",
              "      <td>103.60</td>\n",
              "      <td>781.0</td>\n",
              "      <td>0.09710</td>\n",
              "      <td>0</td>\n",
              "    </tr>\n",
              "    <tr>\n",
              "      <th>12</th>\n",
              "      <td>19.17</td>\n",
              "      <td>24.80</td>\n",
              "      <td>132.40</td>\n",
              "      <td>1123.0</td>\n",
              "      <td>0.09740</td>\n",
              "      <td>0</td>\n",
              "    </tr>\n",
              "    <tr>\n",
              "      <th>13</th>\n",
              "      <td>15.85</td>\n",
              "      <td>23.95</td>\n",
              "      <td>103.70</td>\n",
              "      <td>782.7</td>\n",
              "      <td>0.08401</td>\n",
              "      <td>0</td>\n",
              "    </tr>\n",
              "    <tr>\n",
              "      <th>14</th>\n",
              "      <td>13.73</td>\n",
              "      <td>22.61</td>\n",
              "      <td>93.60</td>\n",
              "      <td>578.3</td>\n",
              "      <td>0.11310</td>\n",
              "      <td>0</td>\n",
              "    </tr>\n",
              "  </tbody>\n",
              "</table>\n",
              "</div>\n",
              "      <button class=\"colab-df-convert\" onclick=\"convertToInteractive('df-a21353ed-73ba-46f4-ad67-bea164cc29b1')\"\n",
              "              title=\"Convert this dataframe to an interactive table.\"\n",
              "              style=\"display:none;\">\n",
              "        \n",
              "  <svg xmlns=\"http://www.w3.org/2000/svg\" height=\"24px\"viewBox=\"0 0 24 24\"\n",
              "       width=\"24px\">\n",
              "    <path d=\"M0 0h24v24H0V0z\" fill=\"none\"/>\n",
              "    <path d=\"M18.56 5.44l.94 2.06.94-2.06 2.06-.94-2.06-.94-.94-2.06-.94 2.06-2.06.94zm-11 1L8.5 8.5l.94-2.06 2.06-.94-2.06-.94L8.5 2.5l-.94 2.06-2.06.94zm10 10l.94 2.06.94-2.06 2.06-.94-2.06-.94-.94-2.06-.94 2.06-2.06.94z\"/><path d=\"M17.41 7.96l-1.37-1.37c-.4-.4-.92-.59-1.43-.59-.52 0-1.04.2-1.43.59L10.3 9.45l-7.72 7.72c-.78.78-.78 2.05 0 2.83L4 21.41c.39.39.9.59 1.41.59.51 0 1.02-.2 1.41-.59l7.78-7.78 2.81-2.81c.8-.78.8-2.07 0-2.86zM5.41 20L4 18.59l7.72-7.72 1.47 1.35L5.41 20z\"/>\n",
              "  </svg>\n",
              "      </button>\n",
              "      \n",
              "  <style>\n",
              "    .colab-df-container {\n",
              "      display:flex;\n",
              "      flex-wrap:wrap;\n",
              "      gap: 12px;\n",
              "    }\n",
              "\n",
              "    .colab-df-convert {\n",
              "      background-color: #E8F0FE;\n",
              "      border: none;\n",
              "      border-radius: 50%;\n",
              "      cursor: pointer;\n",
              "      display: none;\n",
              "      fill: #1967D2;\n",
              "      height: 32px;\n",
              "      padding: 0 0 0 0;\n",
              "      width: 32px;\n",
              "    }\n",
              "\n",
              "    .colab-df-convert:hover {\n",
              "      background-color: #E2EBFA;\n",
              "      box-shadow: 0px 1px 2px rgba(60, 64, 67, 0.3), 0px 1px 3px 1px rgba(60, 64, 67, 0.15);\n",
              "      fill: #174EA6;\n",
              "    }\n",
              "\n",
              "    [theme=dark] .colab-df-convert {\n",
              "      background-color: #3B4455;\n",
              "      fill: #D2E3FC;\n",
              "    }\n",
              "\n",
              "    [theme=dark] .colab-df-convert:hover {\n",
              "      background-color: #434B5C;\n",
              "      box-shadow: 0px 1px 3px 1px rgba(0, 0, 0, 0.15);\n",
              "      filter: drop-shadow(0px 1px 2px rgba(0, 0, 0, 0.3));\n",
              "      fill: #FFFFFF;\n",
              "    }\n",
              "  </style>\n",
              "\n",
              "      <script>\n",
              "        const buttonEl =\n",
              "          document.querySelector('#df-a21353ed-73ba-46f4-ad67-bea164cc29b1 button.colab-df-convert');\n",
              "        buttonEl.style.display =\n",
              "          google.colab.kernel.accessAllowed ? 'block' : 'none';\n",
              "\n",
              "        async function convertToInteractive(key) {\n",
              "          const element = document.querySelector('#df-a21353ed-73ba-46f4-ad67-bea164cc29b1');\n",
              "          const dataTable =\n",
              "            await google.colab.kernel.invokeFunction('convertToInteractive',\n",
              "                                                     [key], {});\n",
              "          if (!dataTable) return;\n",
              "\n",
              "          const docLinkHtml = 'Like what you see? Visit the ' +\n",
              "            '<a target=\"_blank\" href=https://colab.research.google.com/notebooks/data_table.ipynb>data table notebook</a>'\n",
              "            + ' to learn more about interactive tables.';\n",
              "          element.innerHTML = '';\n",
              "          dataTable['output_type'] = 'display_data';\n",
              "          await google.colab.output.renderOutput(dataTable, element);\n",
              "          const docLink = document.createElement('div');\n",
              "          docLink.innerHTML = docLinkHtml;\n",
              "          element.appendChild(docLink);\n",
              "        }\n",
              "      </script>\n",
              "    </div>\n",
              "  </div>\n",
              "  "
            ]
          },
          "metadata": {},
          "execution_count": 15
        }
      ]
    },
    {
      "cell_type": "markdown",
      "source": [
        "A continuación se separan los datos de \"train\" en entrenamiento y prueba para probar los respectivos algoritmos."
      ],
      "metadata": {
        "id": "ym6lOsQVeXQI"
      }
    },
    {
      "cell_type": "code",
      "source": [
        "from sklearn import model_selection \n",
        "X_train, X_test, y_train, y_test = sklearn.model_selection.train_test_split(X_multiple, y, train_size=0.8)\n"
      ],
      "metadata": {
        "id": "eLYvC9MKO6JB"
      },
      "execution_count": null,
      "outputs": []
    },
    {
      "cell_type": "markdown",
      "source": [
        "En esta parte se da inicio a la regresión multiple."
      ],
      "metadata": {
        "id": "m8v_NaNLekhY"
      }
    },
    {
      "cell_type": "code",
      "source": [
        "from sklearn import linear_model\n",
        "regr = linear_model.LinearRegression()\n",
        "\n",
        "regr.fit(X_train, y_train)"
      ],
      "metadata": {
        "colab": {
          "base_uri": "https://localhost:8080/"
        },
        "id": "cTvhzxOSP1Zo",
        "outputId": "3421664b-12cf-4356-c24b-cedcbac802de"
      },
      "execution_count": null,
      "outputs": [
        {
          "output_type": "execute_result",
          "data": {
            "text/plain": [
              "LinearRegression()"
            ]
          },
          "metadata": {},
          "execution_count": 17
        }
      ]
    },
    {
      "cell_type": "markdown",
      "source": [
        "Esta función predice los valores con respecto al modelo que se acaba de crear."
      ],
      "metadata": {
        "id": "Rmsqtdzaeqmx"
      }
    },
    {
      "cell_type": "code",
      "source": [
        "testeo = regr.predict(X_test)\n",
        "print(testeo)"
      ],
      "metadata": {
        "colab": {
          "base_uri": "https://localhost:8080/"
        },
        "id": "AJtl28-sQCcu",
        "outputId": "1395728f-2a41-43b9-c173-c5f38ff4512c"
      },
      "execution_count": null,
      "outputs": [
        {
          "output_type": "stream",
          "name": "stdout",
          "text": [
            "[[ 0.12597764]\n",
            " [ 0.73109391]\n",
            " [ 0.01235697]\n",
            " [ 0.91540664]\n",
            " [ 0.25631459]\n",
            " [ 1.0198643 ]\n",
            " [ 0.44128177]\n",
            " [ 0.7757629 ]\n",
            " [ 0.83948671]\n",
            " [ 0.63148043]\n",
            " [ 0.47529665]\n",
            " [ 1.1025601 ]\n",
            " [ 0.54514031]\n",
            " [ 0.75588043]\n",
            " [ 0.72693518]\n",
            " [ 0.36663921]\n",
            " [ 0.66720652]\n",
            " [ 0.58873376]\n",
            " [ 1.26476933]\n",
            " [ 1.00236016]\n",
            " [ 0.73343388]\n",
            " [ 0.72724352]\n",
            " [ 1.09602087]\n",
            " [ 0.93600783]\n",
            " [ 1.02944678]\n",
            " [ 0.70777903]\n",
            " [-0.16345449]\n",
            " [ 1.09014628]\n",
            " [ 0.78983205]\n",
            " [ 1.10983348]\n",
            " [ 0.52345053]\n",
            " [ 0.22229341]\n",
            " [ 0.90980756]\n",
            " [ 0.79934035]\n",
            " [ 0.78602419]\n",
            " [ 1.37751094]\n",
            " [ 1.13587889]\n",
            " [ 0.98149379]\n",
            " [ 0.5259979 ]\n",
            " [ 0.85290444]\n",
            " [ 0.90150738]\n",
            " [ 0.27108736]\n",
            " [ 0.09453257]\n",
            " [ 0.27455389]\n",
            " [ 0.45350168]\n",
            " [ 0.36174882]\n",
            " [ 0.9088852 ]\n",
            " [-0.00871067]\n",
            " [ 0.49683758]\n",
            " [ 0.66317365]\n",
            " [ 0.94679063]\n",
            " [ 0.97707893]\n",
            " [ 0.11512127]\n",
            " [ 0.93550817]\n",
            " [ 0.39740922]\n",
            " [ 0.90839253]\n",
            " [ 1.18822724]\n",
            " [ 0.28985213]\n",
            " [ 0.8019524 ]\n",
            " [ 0.18943602]\n",
            " [ 0.90139849]\n",
            " [ 0.67401094]\n",
            " [-0.0501626 ]\n",
            " [ 0.36248867]\n",
            " [ 0.74035107]\n",
            " [ 0.8652945 ]\n",
            " [ 0.81251216]\n",
            " [ 0.4623507 ]\n",
            " [-0.14310802]\n",
            " [ 1.27820789]\n",
            " [ 0.83001398]\n",
            " [ 1.18814439]\n",
            " [ 0.95789008]\n",
            " [ 0.48402439]\n",
            " [ 1.0553855 ]\n",
            " [ 0.82288843]\n",
            " [ 0.64392448]\n",
            " [ 0.92671385]\n",
            " [-0.54865842]\n",
            " [ 0.43056266]\n",
            " [ 0.30580708]\n",
            " [ 0.87059484]\n",
            " [ 0.68222339]\n",
            " [ 0.48771186]\n",
            " [ 1.0671661 ]\n",
            " [ 0.47955176]\n",
            " [ 0.03907345]\n",
            " [ 0.97457442]\n",
            " [ 0.10032926]\n",
            " [ 0.20236535]\n",
            " [ 0.6080521 ]\n",
            " [-0.44262501]\n",
            " [ 0.88866759]\n",
            " [ 1.00353621]\n",
            " [ 0.94363441]\n",
            " [ 1.02502844]\n",
            " [ 0.86771127]\n",
            " [ 0.49520621]\n",
            " [ 0.98571654]\n",
            " [ 1.17127936]\n",
            " [ 1.36297425]\n",
            " [ 0.31059527]\n",
            " [ 1.21051935]\n",
            " [ 0.99365143]\n",
            " [ 0.35291129]\n",
            " [ 0.08544861]\n",
            " [ 0.86518195]\n",
            " [ 0.62335359]\n",
            " [ 0.85961125]\n",
            " [ 0.46800762]\n",
            " [ 0.7704442 ]\n",
            " [ 0.1918721 ]\n",
            " [ 0.75613633]\n",
            " [ 0.88584288]]\n"
          ]
        }
      ]
    },
    {
      "cell_type": "markdown",
      "source": [
        "Función que corresponde a la varianza de nuestro modelo."
      ],
      "metadata": {
        "id": "u9v1eVCxe0wb"
      }
    },
    {
      "cell_type": "code",
      "source": [
        "print('Varianza modelo: %.2f' % regr.score(X_test,y_test))"
      ],
      "metadata": {
        "colab": {
          "base_uri": "https://localhost:8080/"
        },
        "id": "SC9cjyvgQJOx",
        "outputId": "506cad48-fc8a-4cfe-d147-7fe85d649c2c"
      },
      "execution_count": null,
      "outputs": [
        {
          "output_type": "stream",
          "name": "stdout",
          "text": [
            "Varianza modelo: 0.65\n"
          ]
        }
      ]
    },
    {
      "cell_type": "markdown",
      "source": [
        "Se imprimirá el intercepto (b), es decir, el intercepto del modelo."
      ],
      "metadata": {
        "id": "jZaz9AEOe62C"
      }
    },
    {
      "cell_type": "code",
      "source": [
        "print(regr.intercept_)"
      ],
      "metadata": {
        "colab": {
          "base_uri": "https://localhost:8080/"
        },
        "id": "Z37RIHHSQMiG",
        "outputId": "56df118d-ba5d-473e-d1b4-3098e9e68ed1"
      },
      "execution_count": null,
      "outputs": [
        {
          "output_type": "stream",
          "name": "stdout",
          "text": [
            "[3.49552304]\n"
          ]
        }
      ]
    },
    {
      "cell_type": "markdown",
      "source": [
        "Debido a que es una regresión lineal multiple se necesitan los coeficientes (theta), donde imprimimos m, es decir los coeficientes, donde el valor de 'm' más alto, correspondera al valor mas influyente sobre el modelo."
      ],
      "metadata": {
        "id": "IWuY9YPFfEzx"
      }
    },
    {
      "cell_type": "code",
      "source": [
        "print(regr.coef_)"
      ],
      "metadata": {
        "colab": {
          "base_uri": "https://localhost:8080/"
        },
        "id": "YQq50Xy8QSBy",
        "outputId": "bdd643ba-ab9f-4df7-e24e-ceaf1ffe9dc3"
      },
      "execution_count": null,
      "outputs": [
        {
          "output_type": "stream",
          "name": "stdout",
          "text": [
            "[[ 3.67088847e-02 -2.21696115e-02 -3.13305972e-02  9.38216683e-04\n",
            "  -7.14956540e+00]]\n"
          ]
        }
      ]
    },
    {
      "cell_type": "markdown",
      "source": [
        "Programa en QT Creator."
      ],
      "metadata": {
        "id": "NNnOXLDpo0wZ"
      }
    },
    {
      "cell_type": "markdown",
      "source": [
        "![Captura desde 2022-11-23 21-15-22.png](data:image/png;base64,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)"
      ],
      "metadata": {
        "id": "tdQoLL_GapG8"
      }
    },
    {
      "cell_type": "markdown",
      "source": [
        "**Conclusión**\n",
        "\n",
        "Para dar cierre al análisis de los datos con respecto al cáncer de mama, en primer lugar contamos con el promedio de mean_radius (radio medio), el cual corresponde a 14.12, tenemos mean_texture (textura promedio), con 19.28, mean_perimeter (perímetro medio) con 91.96, mean_area (area media) con 654.88, mean_smoothness (suavidad media) que cuenta con un promedio de 0.014, y finalmente con la diagnosis, la cual corresponde a 0.62. Por otr lado tenemos la desviación estandar donde mean_radius, corresponde a 3.52, mean_texture, cuenta con 4.30, mean_perimeter, 24.29, mean_area, 351.91, mean_smoothness cuenta con 0.014, y por último, tenemos que la desviación estandar de la diagnosis cuenta con 0.48. Tenemos una gráfica de calor, la cual nos indica la correlación del cáncer de mama de las variables numericas, en este caso, tenemos que el dato mas claro es el dato mas influyente del dataset, tenemos una función, la cual al ejecutarla obtendremos count, mean, std, antes mecionados agregado a ello, tenemos los valores máximos y mínimos y los datos divididos en porcentajes entre 25%, 50% y 75%, así mismo tenemos unas gráficas, las cuales representan las caracteristicas de cada variable con respecto al número que tiene cada una, después de ello tenemos un esquema, el cual gráfica cada una de las columnas con variable independiente con respecto a la variable dependiente. A continuación de ello, tenemos una función que nos muestra que valores de este dataset son nulos, en este caso, no tenemos ninguno que sea nulo, el dataset cuenta con 569 datos y se compone de 6 columnas.\n",
        "Hablamos de la regresión lineal multiple, la cual al continuar observando el programa, tenemos que primeramente se define como X, es decir, mean_adius, mean_texture, mean_perimeter, mean_area y mean_smoothness, y ya en la siguiente parte se define como Y, que vendría siendo diagnosis. \n",
        "Tenemos los valores maximos y minimos del dataset, los cuales tenemos que los maximos en mean_radius, es de 28.11, mean_texture 39.28, mean_perimeter 188.50, mean_area 2501.00, mean_smoothness 0.16, y por ultimo diagnosis con 1.0, tenemos los minimos, los cuales contamos con mean_radius 6.98, mean_texture 9.71, mean_perimeter 43.79, mean_area 143.50, mean_smoothness 0.05, y diagnosis contamos con 0.00. Tenemos en el programa una función la cual separa los datos de \"train\" en entrenamiento y prueba para así mismo probar los respectivos algoritmos, se realizó una regresión multiple, y se realizó así mismo una función que predice los valores con respecto al modelo que se acaba de crear, tenemos la varianza de nuestro modelo que corresponde a 0.65, se imprimio el intercepto (b), que corresponde a 3.49, y finalmente tenemos los coeficientes theta, donde imprimimos m, es decir, los coeficientes donde el valor mas alto corresponde al valor influyente del modelo.\n",
        "Para finalizar, se realizo el mismo procedimiento en QT Creator, y este se evidencia en la última foto.  "
      ],
      "metadata": {
        "id": "qJzFdaX9iAmP"
      }
    }
  ]
}